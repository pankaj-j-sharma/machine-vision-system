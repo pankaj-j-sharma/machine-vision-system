{
 "cells": [
  {
   "cell_type": "code",
   "execution_count": 82,
   "metadata": {
    "id": "mQdYDm_TeM78"
   },
   "outputs": [],
   "source": [
    "# !pip install imgaug\n",
    "import imageio\n",
    "import imgaug as ia\n",
    "import imgaug.augmenters as iaa\n",
    "import glob\n",
    "import os\n",
    "import cv2\n",
    "from PIL import Image\n",
    "import numpy as np"
   ]
  },
  {
   "cell_type": "code",
   "execution_count": null,
   "metadata": {},
   "outputs": [],
   "source": [
    "inputFolder = 'D:\\\\POC\\\\ComputerVisionSolution\\\\Surface_defects_detection\\\\all_testing_images\\\\'\n",
    "os.chdir(inputFolder)"
   ]
  },
  {
   "cell_type": "code",
   "execution_count": 83,
   "metadata": {
    "id": "4pYNbXDi8_Ws"
   },
   "outputs": [],
   "source": [
    "def translate(x,y):\n",
    "    if not os.path.isdir('Translation'):\n",
    "        os.mkdir('Translation')\n",
    "\n",
    "    for i,img in enumerate(glob.glob(inputFolder + \"/*.jpg\")):        \n",
    "        image =cv2.imread(img)\n",
    "        image = cv2.cvtColor(image, cv2.COLOR_BGR2RGB)\n",
    "        rows, cols ,c= image.shape\n",
    "        M = np.float32([[1, 0, x], [0, 1, y]])\n",
    "        imgTranslated = cv2.warpAffine(image, M, (cols, rows))\n",
    "        cv2.imwrite(\"Translation/image%04i.jpg\" %(i+1), imgTranslated)\n",
    "\n",
    "\n",
    "#1. Resize\n",
    "def resize(h, w):\n",
    "\n",
    "    if not os.path.isdir('Resized'):\n",
    "        os.mkdir('Resized')\n",
    "\n",
    "    for i,img in enumerate(glob.glob(inputFolder + \"/*.jpg\")):\n",
    "        image = cv2.imread(img)\n",
    "        imgResized = cv2.resize(image, (h, w))\n",
    "        print(type(image),image.shape)\n",
    "        cv2.imwrite(\"Resized/image%04i.jpg\" %(i+1), imgResized)\n",
    "        #cv2.imshow('resized',imgResized)\n",
    "        #cv2.waitKey(0)\n",
    "        \n",
    "#2.rotate\n",
    "def rotate(x):\n",
    "\n",
    "    if not os.path.isdir('Rotate'):\n",
    "        os.mkdir('Rotate')\n",
    "        \n",
    "    for i,img in enumerate(glob.glob(inputFolder + \"/*.jpg\")):\n",
    "        image = cv2.imread(img)\n",
    "        imgRotate = cv2.rotate(image, x)\n",
    "        cv2.imwrite(\"Rotate/image%04i.jpg\" %(i+1), imgRotate)\n",
    "        #cv2.imshow('Rotate',imgRotate)\n",
    "        #cv2.waitKey(0) \n",
    "        \n",
    "        \n",
    "#3. shear\n",
    "def shear(x, y):\n",
    "\n",
    "    if not os.path.isdir('Shear'):\n",
    "        os.mkdir('Shear')\n",
    "    for i,img in enumerate(glob.glob(inputFolder + \"/*.jpg\")):\n",
    "        image = imageio.imread(img)\n",
    "        shear = iaa.Affine(shear=(x,y))\n",
    "        shear_image=shear.augment_image(image)\n",
    "        cv2.imwrite(\"Shear/image%04i.jpg\" %(i+1),shear_image)\n",
    "        #ia.imshow(shear_image)\n",
    "        #cv2.waitKey(0)\n",
    "\n",
    "#4. noise\n",
    "def noise():\n",
    " \n",
    "    if not os.path.isdir('Noise'):\n",
    "        os.mkdir('Noise')\n",
    "\n",
    "    for i,img in enumerate(glob.glob(inputFolder + \"/*.jpg\")):\n",
    "        image = imageio.imread(img)\n",
    "        gaussian_noise=iaa.AdditiveGaussianNoise(0,20)\n",
    "        noise_image=gaussian_noise.augment_image(image)\n",
    "        imageio.imwrite(\"Noise/image%04i.jpg\" %(i+1),noise_image)\n",
    "        #ia.imshow(noise_image)\n",
    "        #cv2.waitKey(0)\n",
    "\n",
    "\n",
    "# 5.cropping using imgaug\n",
    "def crop(x,y):\n",
    " \n",
    "    if not os.path.isdir('Crop'):\n",
    "        os.mkdir('Crop')\n",
    "\n",
    "    for i,img in enumerate(glob.glob(inputFolder + \"/*.jpg\")):\n",
    "        image = imageio.imread(img)\n",
    "        crop = iaa.Crop(percent=(x, y)) # crop image\n",
    "        crop_image=crop.augment_image(image)\n",
    "        print(type(crop_image))\n",
    "        imageio.imwrite(\"Crop/image%04i.jpg\" %i,crop_image)\n",
    "        #ia.imshow(crop_image)\n",
    "        #cv2.waitKey(0)\n",
    "\n",
    "\n",
    "# 6. horizontal flip \n",
    "def flip():\n",
    " \n",
    "    if not os.path.isdir('Flip'):\n",
    "        os.mkdir('Flip')\n",
    "\n",
    "    for i,img in enumerate(glob.glob(inputFolder + \"/*.jpg\")):\n",
    "        image = imageio.imread(img)\n",
    "        flip_hr=iaa.Fliplr(p=1.0)\n",
    "        flip_hr_image= flip_hr.augment_image(image)\n",
    "        imageio.imwrite(\"Flip/image%04i.jpg\" %(i+1),flip_hr_image)\n",
    "        #ia.imshow(flip_hr_image)\n",
    "        #cv2.waitKey(0)\n",
    "\n",
    "\n",
    "#7. contrast\n",
    "def bright():\n",
    "\n",
    "    if not os.path.isdir('Bright'):\n",
    "        os.mkdir('Bright')\n",
    "    \n",
    "    for i,img in enumerate(glob.glob(inputFolder + \"/*.jpg\")):\n",
    "        image = imageio.imread(img)\n",
    "        contrast=iaa.GammaContrast(gamma=2.0)\n",
    "        contrast_image =contrast.augment_image(image)\n",
    "        imageio.imwrite(\"Bright/image%04i.jpg\" %(i+1),contrast_image)\n",
    "        #ia.imshow(contrast_image)\n",
    "        #cv2.waitKey(0)\n",
    "\n",
    "\n",
    "#8. scaling images\n",
    "def scale():\n",
    " \n",
    "    if not os.path.isdir('Scale'):\n",
    "        os.mkdir('Scale')\n",
    "\n",
    "    for i,img in enumerate(glob.glob(inputFolder + \"/*.jpg\")):\n",
    "        image = imageio.imread(img)\n",
    "        scale_im=iaa.Affine(scale={\"x\": (0.8, 1.2), \"y\": (0.8, 1.2)})\n",
    "        scale_image =scale_im.augment_image(image)\n",
    "        imageio.imwrite(\"Scale/image%04i.jpg\" %(i+1),scale_image)\n",
    "        #ia.imshow(scale_image)\n",
    "        #cv2.waitKey(0)\n"
   ]
  },
  {
   "cell_type": "code",
   "execution_count": 78,
   "metadata": {
    "id": "ivtGwODq-xrz"
   },
   "outputs": [
    {
     "name": "stdout",
     "output_type": "stream",
     "text": [
      "<class 'numpy.ndarray'> (256, 1600, 3)\n",
      "<class 'numpy.ndarray'> (256, 1600, 3)\n",
      "<class 'numpy.ndarray'> (256, 1600, 3)\n",
      "<class 'numpy.ndarray'> (256, 1600, 3)\n",
      "<class 'numpy.ndarray'> (256, 1600, 3)\n",
      "<class 'numpy.ndarray'> (1122, 1000, 3)\n",
      "<class 'numpy.ndarray'> (667, 1000, 3)\n",
      "<class 'numpy.ndarray'> (720, 1280, 3)\n",
      "<class 'numpy.ndarray'> (280, 390, 3)\n"
     ]
    }
   ],
   "source": [
    "resize(150,150)"
   ]
  },
  {
   "cell_type": "code",
   "execution_count": 84,
   "metadata": {},
   "outputs": [],
   "source": [
    "translate(150,150)"
   ]
  },
  {
   "cell_type": "code",
   "execution_count": null,
   "metadata": {
    "id": "lWONlJs1UeFW"
   },
   "outputs": [],
   "source": [
    "rotate(cv2.cv2.ROTATE_90_CLOCKWISE)"
   ]
  },
  {
   "cell_type": "code",
   "execution_count": null,
   "metadata": {
    "id": "CBrtjZ6Scu5A"
   },
   "outputs": [],
   "source": [
    "shear(0,40)"
   ]
  },
  {
   "cell_type": "code",
   "execution_count": null,
   "metadata": {
    "id": "bznlAozMfH4j"
   },
   "outputs": [],
   "source": [
    "noise()"
   ]
  },
  {
   "cell_type": "code",
   "execution_count": 73,
   "metadata": {
    "id": "7faEFS-cte4V"
   },
   "outputs": [
    {
     "name": "stdout",
     "output_type": "stream",
     "text": [
      "<class 'numpy.ndarray'>\n",
      "<class 'numpy.ndarray'>\n",
      "<class 'numpy.ndarray'>\n",
      "<class 'numpy.ndarray'>\n",
      "<class 'numpy.ndarray'>\n",
      "<class 'numpy.ndarray'>\n",
      "<class 'numpy.ndarray'>\n",
      "<class 'numpy.ndarray'>\n",
      "<class 'numpy.ndarray'>\n"
     ]
    }
   ],
   "source": [
    "crop(0, 0.3)"
   ]
  },
  {
   "cell_type": "code",
   "execution_count": null,
   "metadata": {
    "id": "CHwRuELOwkWG"
   },
   "outputs": [],
   "source": [
    "flip()"
   ]
  },
  {
   "cell_type": "code",
   "execution_count": null,
   "metadata": {
    "id": "hCsYJYo0JdeH"
   },
   "outputs": [],
   "source": [
    "bright()"
   ]
  },
  {
   "cell_type": "code",
   "execution_count": null,
   "metadata": {
    "id": "i92N72svNYQY"
   },
   "outputs": [],
   "source": [
    "scale()"
   ]
  }
 ],
 "metadata": {
  "colab": {
   "name": "data_aug.ipynb",
   "provenance": []
  },
  "kernelspec": {
   "display_name": "Python 3 (ipykernel)",
   "language": "python",
   "name": "python3"
  },
  "language_info": {
   "codemirror_mode": {
    "name": "ipython",
    "version": 3
   },
   "file_extension": ".py",
   "mimetype": "text/x-python",
   "name": "python",
   "nbconvert_exporter": "python",
   "pygments_lexer": "ipython3",
   "version": "3.8.6"
  }
 },
 "nbformat": 4,
 "nbformat_minor": 1
}
